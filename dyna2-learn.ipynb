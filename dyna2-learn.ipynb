{
 "cells": [
  {
   "cell_type": "code",
   "execution_count": 1,
   "metadata": {},
   "outputs": [],
   "source": [
    "import torch\n",
    "import copy\n",
    "import numpy as np\n",
    "import matplotlib.pyplot as plt\n",
    "from IPython.display import clear_output\n",
    "device = torch.device(\"cuda\" if torch.cuda.is_available() else \"cpu\")\n",
    "\n",
    "import Backgammon as B\n",
    "import agent as A\n",
    "import flipped_agent as FA"
   ]
  },
  {
   "cell_type": "code",
   "execution_count": 3,
   "metadata": {},
   "outputs": [],
   "source": [
    "class backgammon:\n",
    "    def __init__(self):\n",
    "        self.board = B.init_board()\n",
    "            \n",
    "    def reset(self):\n",
    "        self.board = B.init_board()\n",
    "        self.done = False\n",
    "        \n",
    "    def choose_board(self, board):\n",
    "        self.board = board\n",
    "        self.done = False\n",
    "        return np.copy(self.board)\n",
    "    \n",
    "    def legal_moves(self, dice, player):\n",
    "        moves, boards = B.legal_moves(board = self.board, dice = dice, player = player)\n",
    "        if len(boards) == 0:\n",
    "            return [], self.board\n",
    "        return moves, np.vstack(boards)\n",
    "    \n",
    "    def swap_player(self):\n",
    "        self.board = FA.flip_board(board_copy=np.copy(self.board))\n",
    "    \n",
    "    # oppents random move\n",
    "    def make_move(self, dice):\n",
    "        moves, _ = self.legal_moves(dice, -1)\n",
    "        if len(moves) == 0:\n",
    "            return self.step([], -1)\n",
    "        move = moves[np.random.randint(len(moves))]\n",
    "        return self.step(move, -1)\n",
    "    \n",
    "    def step(self, move, player):\n",
    "        if len(move) != 0:\n",
    "            for m in move:\n",
    "                self.board = B.update_board(board = self.board, move = m, player = player)\n",
    "        reward = 0\n",
    "        self.done = False\n",
    "        if self.iswin():\n",
    "            reward = player\n",
    "            self.done = True\n",
    "        return np.copy(self.board), reward, self.done\n",
    "        \n",
    "    def iswin(self):\n",
    "        return B.game_over(self.board)\n",
    "        \n",
    "    def render(self):\n",
    "        B.pretty_print(self.board)"
   ]
  },
  {
   "cell_type": "code",
   "execution_count": 4,
   "metadata": {},
   "outputs": [],
   "source": [
    "def reset_graph(seed=42):\n",
    "    #tf.reset_default_graph()\n",
    "    #tf.set_random_seed(seed)\n",
    "    torch.manual_seed(seed)\n",
    "    np.random.seed(seed)\n",
    "reset_graph()"
   ]
  },
  {
   "cell_type": "code",
   "execution_count": 5,
   "metadata": {},
   "outputs": [],
   "source": [
    "# D_in is input dimension;\n",
    "# H is hidden dimension; D_out is output dimension.\n",
    "D_in, H1, H2, H3, D_out = 29, 32, 64, 128, 1\n",
    "\n",
    "actor = torch.nn.Sequential(\n",
    "    torch.nn.Linear(D_in, H1),\n",
    "    torch.nn.LeakyReLU(),\n",
    "    torch.nn.Linear(H1, H2),\n",
    "    torch.nn.LeakyReLU(),\n",
    "    torch.nn.Linear(H2, H3),\n",
    "    torch.nn.LeakyReLU(),\n",
    "    torch.nn.Linear(H3, D_out),\n",
    "    torch.nn.Softmax(dim=0),\n",
    ")\n",
    "critic = torch.nn.Sequential(\n",
    "    torch.nn.Linear(D_in, H1),\n",
    "    torch.nn.LeakyReLU(),\n",
    "    torch.nn.Linear(H1, H2),\n",
    "    torch.nn.LeakyReLU(),\n",
    "    torch.nn.Linear(H2, H3),\n",
    "    torch.nn.LeakyReLU(),\n",
    "    torch.nn.Linear(H3, D_out),\n",
    "    torch.nn.Tanh(),\n",
    ")\n",
    "memory = torch.nn.Sequential(\n",
    "    torch.nn.Linear(D_in, H1),\n",
    "    torch.nn.LeakyReLU(),\n",
    "    torch.nn.Linear(H1, H2),\n",
    "    torch.nn.LeakyReLU(),\n",
    "    torch.nn.Linear(H2, H3),\n",
    "    torch.nn.LeakyReLU(),\n",
    "    torch.nn.Linear(H3, D_out),\n",
    "    torch.nn.Tanh(),\n",
    ")\n",
    "# save initial parameters of transient memory\n",
    "initial_memory = [copy.deepcopy(param) for param in memory.parameters()]"
   ]
  },
  {
   "cell_type": "code",
   "execution_count": 6,
   "metadata": {},
   "outputs": [],
   "source": [
    "def get_action_and_value(actor, boards):\n",
    "    boards = torch.from_numpy(boards).float()\n",
    "    possible_actions_probs = actor(boards)\n",
    "    with torch.no_grad():\n",
    "        action = int(torch.multinomial(possible_actions_probs.view(1,-1), 1))\n",
    "    action_value = possible_actions_probs[action]\n",
    "    return action, action_value\n",
    "\n",
    "def get_action_value(actor, boards, action):\n",
    "    boards = torch.from_numpy(boards).float()\n",
    "    possible_actions_probs = actor(boards)\n",
    "    action_value = possible_actions_probs[action]\n",
    "    return action_value\n",
    "\n",
    "def get_action(actor, boards):\n",
    "    with torch.no_grad():\n",
    "        boards = torch.from_numpy(boards).float()\n",
    "        possible_actions_probs = actor(boards)\n",
    "        action = torch.multinomial(possible_actions_probs.view(1,-1), 1)\n",
    "    return int(action)\n",
    "\n",
    "def get_state_value(nn_model, after_state):\n",
    "    after_state = torch.from_numpy(after_state).float()\n",
    "    value = nn_model(after_state)\n",
    "    return value\n",
    "\n",
    "def epsilon_greedy(board, player, dice, critic, epsilon=1):\n",
    "    if (player == -1):\n",
    "        board = FA.flip_board(board)\n",
    "    possible_moves, possible_boards = B.legal_moves(board, dice, 1)\n",
    "    possible_boards = np.vstack(possible_boards)\n",
    "    possible_boards = torch.from_numpy(possible_boards).float()\n",
    "    values = critic(possible_boards)\n",
    "    if np.random.random()<epsilon:\n",
    "        _ , index = values.max(0)\n",
    "    else:\n",
    "        index = np.random.randint(0, len(possible_boards))\n",
    "    index = int(index)\n",
    "    moves = possible_moves[index]\n",
    "    if (player == -1):\n",
    "        moves = FA.flip_move(moves)\n",
    "    return moves\n",
    "\n",
    "def composite_greedy(board, player, dice, critic, memory, epsilon=1):\n",
    "    if (player == -1):\n",
    "        board = FA.flip_board(board)\n",
    "    _, possible_boards = B.legal_moves(board, dice, 1)   \n",
    "    possible_boards = torch.from_numpy(np.vstack(possible_boards)).float()\n",
    "    critic_values = critic(possible_boards)\n",
    "    memory_values = memory(possible_boards)\n",
    "    values = critic_values + memory_values\n",
    "    if np.random.random()<epsilon:\n",
    "        _ , index = values.max(0)\n",
    "    else:\n",
    "        index = np.random.randint(0, len(possible_boards))\n",
    "    index = int(index)\n",
    "    #print(\"INDEX: \", index)\n",
    "    #print(\"SHAPE: \", np.shape(possible_moves))\n",
    "    moves = possible_moves[index]\n",
    "    if (player == -1):\n",
    "        moves = FA.flip_move(moves)\n",
    "    return moves"
   ]
  },
  {
   "cell_type": "code",
   "execution_count": 7,
   "metadata": {},
   "outputs": [],
   "source": [
    "\"\"\"\n",
    "Use: valuefn_temp = search(pre_state, memory, n_dreams, max_steps)\n",
    "Input: pre_state is current state,\n",
    "       memory is the transient memorythe value function,\n",
    "       old_value is the value of last after state\n",
    "       n_dreams is number of dreams,\n",
    "       max_steps is maximum number of steps,\n",
    "Output: memory has been updated for episodes in dream\n",
    "\"\"\"\n",
    "def search(pre_state, pre_value, n_dreams, max_steps = 1000):\n",
    "    # Clear eligibility trace\n",
    "    with torch.no_grad():\n",
    "        for i, param in enumerate(memory.parameters()):\n",
    "            param.data.copy_(initial_memory[i])\n",
    "    \n",
    "    \n",
    "    # Dream n_dreams\n",
    "    for dreams in range(n_dreams):\n",
    "        # Clear eligibility trace\n",
    "        memory_Z = [0 for layer in critic.parameters()]\n",
    "        done = False\n",
    "        I = 1\n",
    "        step = 1\n",
    "        state = env.choose_board(np.copy(pre_state))\n",
    "        #Set after_state = pre_state to deal with possibilty of no legal move on first step\n",
    "        #after_state = env.choose_board(np.copy(pre_state))\n",
    "        old_value = pre_value\n",
    "        #skip_round = False\n",
    "        #Error = False\n",
    "        \n",
    "        # play one round and update\n",
    "        while not (done or step > max_steps):\n",
    "            dice = B.roll_dice()\n",
    "            for i in range(1 + int(dice[0] == dice[1])):\n",
    "                possible_moves, possible_boards = env.legal_moves(dice, 1)\n",
    "                if len(possible_moves) == 0:\n",
    "                    after_state = np.copy(state)\n",
    "                    #skip_round = True\n",
    "                    #after_state = next_state\n",
    "                    break\n",
    "                # Use composite value function to choose action\n",
    "                moves = composite_greedy(np.copy(env.board), 1, dice, critic, memory)\n",
    "                after_state, reward, done = env.step(moves, player = 1)\n",
    "                if done:\n",
    "                    break\n",
    "            if not done:\n",
    "                critic_value = get_state_value(critic, after_state)\n",
    "                memory_value = get_state_value(memory, after_state)\n",
    "                value = critic_value + memory_value\n",
    "                #calc critic gradient\n",
    "                memory.zero_grad()\n",
    "                critic.zero_grad()\n",
    "                value.backward()\n",
    "                with torch.no_grad():\n",
    "                    for i, param in enumerate(memory.parameters()):\n",
    "                        memory_Z[i] = memory_lambda * memory_Z[i] + param.grad\n",
    "            else:\n",
    "                value = 0\n",
    "            skip_round = False\n",
    "            \n",
    "            with torch.no_grad():\n",
    "                # other players move\n",
    "                if not done:\n",
    "                    dice = B.roll_dice()\n",
    "                    for i in range(1 + int(dice[0] == dice[1])):\n",
    "                        next_state, reward, done = env.make_move(dice)\n",
    "                        if done:\n",
    "                            break\n",
    "                    #next_value = get_state_value(critic, next_state)\n",
    "                else:\n",
    "                    next_value = 0\n",
    "                \n",
    "                delta = reward + gamma*value - old_value\n",
    "                old_value = value\n",
    "            \n",
    "                # apply gradients\n",
    "                for i, param in enumerate(memory.parameters()):\n",
    "                    param += memory_alpha * delta * memory_Z[i]\n",
    "\n",
    "            I *= gamma\n",
    "            step +=1\n",
    "\n",
    "    state = env.choose_board(pre_state)\n",
    "    old_value = pre_value\n"
   ]
  },
  {
   "cell_type": "code",
   "execution_count": 26,
   "metadata": {},
   "outputs": [
    {
     "name": "stdout",
     "output_type": "stream",
     "text": [
      "Reward:  1\n"
     ]
    },
    {
     "data": {
      "image/png": "[encoded data removed]",
      "text/plain": [
       "<Figure size 432x288 with 1 Axes>"
      ]
     },
     "metadata": {},
     "output_type": "display_data"
    },
    {
     "name": "stdout",
     "output_type": "stream",
     "text": [
      "Episode: 99500\n",
      "time per 500 : 48.03612184524536\n"
     ]
    }
   ],
   "source": [
    "# Learn\n",
    "\n",
    "gamma = 0.99\n",
    "actor_alpha = 0.01\n",
    "critic_alpha = 0.0001\n",
    "memory_alpha = 0.01\n",
    "actor_lambda = 0.7\n",
    "critic_lambda = 0.5\n",
    "memory_lambda = 0.7\n",
    "forever = 100000\n",
    "\n",
    "plt_iter = 500\n",
    "rew = []\n",
    "rew_plt = []\n",
    "\n",
    "from time import time\n",
    "tic = time()\n",
    "\n",
    "for episode in range(forever):\n",
    "    env = backgammon()\n",
    "    done = False\n",
    "    I = 1\n",
    "    step = 1\n",
    "    actor_Z = [0 for layer in actor.parameters()]\n",
    "    critic_Z1 = [0 for layer in critic.parameters()]\n",
    "    critic_Z2 = [0 for layer in critic.parameters()]\n",
    "    memory_Z = [0 for layer in memory.parameters()]\n",
    "    n_dreams = 0\n",
    "    max_rounds = 0\n",
    "    Error = False\n",
    "\n",
    "    while not done:\n",
    "        #print(step)\n",
    "        dice = B.roll_dice()\n",
    "        for i in range(1 + int(dice[0] == dice[1])):\n",
    "            possible_moves, possible_boards = env.legal_moves(dice, 1)\n",
    "            if len(possible_moves) == 0:\n",
    "                break\n",
    "            if (0 > 1):\n",
    "                pre_state = np.copy(env.board)\n",
    "                search(pre_state, old_value1, n_dreams, max_rounds)\n",
    "                moves = composite_greedy(np.copy(env.board), 1, dice, critic, memory)\n",
    "            else:\n",
    "                moves = epsilon_greedy(np.copy(env.board), 1, dice, critic) # No search on first step                    \n",
    "            after_state, reward, done = env.step(moves, player = 1)\n",
    "            if done:\n",
    "                break\n",
    "        if not done:\n",
    "            value = get_state_value(critic, after_state)\n",
    "            critic.zero_grad()\n",
    "            value.backward()\n",
    "            with torch.no_grad():\n",
    "                for i, param in enumerate(critic.parameters()):\n",
    "                    critic_Z1[i] = critic_lambda * critic_Z1[i] + param.grad\n",
    "        else:\n",
    "            value = 0\n",
    "        if (step > 1):\n",
    "            with torch.no_grad():\n",
    "                delta1 = reward + gamma*value - old_value1\n",
    "                for j, param in enumerate(critic.parameters()):\n",
    "                    param += critic_alpha * delta1 * critic_Z1[j]       \n",
    "        old_value1 = value\n",
    "        assert (np.sum(b[b>0])==15 and np.sum(b[b<0])==-15), \"Too many pieces\"\n",
    "        \n",
    "        # Other player\n",
    "        if not done:\n",
    "            dice = B.roll_dice()\n",
    "            for i in range(1 + int(dice[0] == dice[1])):\n",
    "                possible_moves, possible_boards = env.legal_moves(dice, -1)\n",
    "                if len(possible_moves) == 0:\n",
    "                    break\n",
    "                if (step > 1):\n",
    "                    pre_state = np.copy(env.board)\n",
    "                    #search(pre_state, old_value2, n_dreams, max_rounds)\n",
    "                    moves = epsilon_greedy(np.copy(env.board), -1, dice, critic)\n",
    "                else:\n",
    "                    moves = epsilon_greedy(np.copy(env.board), -1, dice, critic) # No search on first step                     \n",
    "                after_state, reward, done = env.step(moves, player = -1)\n",
    "                if done:\n",
    "                    break\n",
    "            if not done:\n",
    "                value = get_state_value(critic, after_state)\n",
    "                critic.zero_grad()\n",
    "                value.backward()\n",
    "                with torch.no_grad():\n",
    "                    for i, param in enumerate(critic.parameters()):\n",
    "                        critic_Z2[i] = critic_lambda * critic_Z2[i] + param.grad\n",
    "            else:\n",
    "                value = 0\n",
    "            if (step > 1):\n",
    "                with torch.no_grad():\n",
    "                    delta2 = reward + gamma*value - old_value2\n",
    "                    for j, param in enumerate(critic.parameters()):\n",
    "                        param += critic_alpha * delta2 * critic_Z2[j]\n",
    "            old_value2 = value\n",
    "            assert (np.sum(b[b>0])==15 and np.sum(b[b<0])==-15), \"Too many pieces\"\n",
    "              \n",
    "            \n",
    "        \n",
    "        ###### plot\n",
    "        if episode%plt_iter == 0:\n",
    "            if done:\n",
    "                clear_output(True)\n",
    "                print('Reward: ',reward)\n",
    "                rew_plt.append(np.mean(np.equal(rew,1)))\n",
    "                rew = []\n",
    "                plt.plot(rew_plt)\n",
    "                plt.axhline(0.5, color=\"gray\")\n",
    "                plt.show()\n",
    "                rnd = False\n",
    "                print(\"Episode: {}\".format(episode))\n",
    "                toc=time()\n",
    "                print('time per',plt_iter,':',toc-tic)\n",
    "                tic=toc\n",
    "                #env.render()\n",
    "            ######\n",
    "     \n",
    "        I *= gamma\n",
    "        step += 1\n",
    "    \n",
    "    #print(rew)\n",
    "    # Game is done\n",
    "    rew.append(reward)\n",
    "    #actor_alpha *= 0.99\n",
    "    #critic_alpha *= 0.99"
   ]
  },
  {
   "cell_type": "code",
   "execution_count": 27,
   "metadata": {},
   "outputs": [
    {
     "name": "stdout",
     "output_type": "stream",
     "text": [
      "Reward:  1\n"
     ]
    },
    {
     "data": {
      "image/png": "[encoded data removed]",
      "text/plain": [
       "<Figure size 432x288 with 1 Axes>"
      ]
     },
     "metadata": {},
     "output_type": "display_data"
    },
    {
     "name": "stdout",
     "output_type": "stream",
     "text": [
      "Episode: 90\n",
      "time per 10 : 0.5894405841827393\n"
     ]
    }
   ],
   "source": [
    "# Play against randomm\n",
    "\n",
    "gamma = 0.99\n",
    "actor_alpha = 0.01\n",
    "critic_alpha = 0.01\n",
    "memory_alpha = 0.01\n",
    "actor_lambda = 0.7\n",
    "critic_lambda = 0.7\n",
    "memory_lambda = 0.7\n",
    "forever = 100\n",
    "\n",
    "plt_iter = 10\n",
    "rew = []\n",
    "rew_plt = []\n",
    "\n",
    "from time import time\n",
    "tic = time()\n",
    "\n",
    "for episode in range(forever):\n",
    "    env = backgammon()\n",
    "    done = False\n",
    "    I = 1\n",
    "    step = 1\n",
    "    actor_Z = [0 for layer in actor.parameters()]\n",
    "    critic_Z = [0 for layer in critic.parameters()]\n",
    "    memory_Z = [0 for layer in memory.parameters()]\n",
    "    n_dreams = 5\n",
    "    max_rounds = 5\n",
    "    Error = False\n",
    "\n",
    "    while not done:\n",
    "        dice = B.roll_dice()\n",
    "        for i in range(1 + int(dice[0] == dice[1])):\n",
    "            possible_moves, possible_boards = env.legal_moves(dice, 1)\n",
    "            if len(possible_moves) == 0:\n",
    "                break\n",
    "            if (0 > 1):\n",
    "                pre_state = np.copy(env.board)\n",
    "                search(pre_state, old_value, n_dreams, max_rounds)\n",
    "                action = composite_greedy(critic, memory, possible_boards)\n",
    "            else:\n",
    "                moves = epsilon_greedy(np.copy(env.board), 1, dice, critic) # No search on first step                    \n",
    "            after_state, reward, done = env.step(moves, player = 1)\n",
    "            if done:\n",
    "                break\n",
    "                  \n",
    "        with torch.no_grad():\n",
    "            # other players move\n",
    "            if not done:\n",
    "                dice = B.roll_dice()\n",
    "                for i in range(1 + int(dice[0] == dice[1])):\n",
    "                    next_state, reward, done = env.make_move(dice)\n",
    "                    if done:\n",
    "                        break\n",
    "            else:\n",
    "                next_value = 0\n",
    "            if (step>1):\n",
    "                delta = reward + gamma*value - old_value\n",
    "            old_value = value\n",
    "\n",
    "            ###### plot\n",
    "            if episode%plt_iter == 0:\n",
    "                if done:\n",
    "                    clear_output(True)\n",
    "                    print('Reward: ',reward)\n",
    "                    rew_plt.append(np.mean(np.equal(rew,1)))\n",
    "                    rew = []\n",
    "                    plt.plot(rew_plt)\n",
    "                    plt.axhline(0.5, color=\"gray\")\n",
    "                    plt.show()\n",
    "                    rnd = False\n",
    "                    print(\"Episode: {}\".format(episode))\n",
    "                    toc=time()\n",
    "                    print('time per',plt_iter,':',toc-tic)\n",
    "                    tic=toc\n",
    "                    #env.render()\n",
    "                    \n",
    "        I *= gamma\n",
    "        step += 1\n",
    "    rew.append(reward)\n",
    "    #actor_alpha *= 0.99\n",
    "    #critic_alpha *= 0.99"
   ]
  },
  {
   "cell_type": "code",
   "execution_count": null,
   "metadata": {},
   "outputs": [],
   "source": []
  },
  {
   "cell_type": "code",
   "execution_count": null,
   "metadata": {},
   "outputs": [],
   "source": []
  },
  {
   "cell_type": "code",
   "execution_count": null,
   "metadata": {},
   "outputs": [],
   "source": []
  },
  {
   "cell_type": "code",
   "execution_count": null,
   "metadata": {},
   "outputs": [],
   "source": []
  },
  {
   "cell_type": "code",
   "execution_count": null,
   "metadata": {},
   "outputs": [],
   "source": []
  },
  {
   "cell_type": "code",
   "execution_count": null,
   "metadata": {},
   "outputs": [],
   "source": [
    "def move(old_value, player, step, n_dreams, max_rounds):\n",
    "    for i in range(1 + int(dice[0] == dice[1])):\n",
    "        if (player == 1):\n",
    "            possible_moves, possible_boards = env.legal_moves(dice, 1)\n",
    "        else:\n",
    "            #turn board\n",
    "            env.swap_player()\n",
    "            possible_moves, possible_boards = B.legal_moves(dice, 1)\n",
    "        if len(possible_moves) == 0:\n",
    "            break\n",
    "        if (step > 1):\n",
    "            current_state = np.copy(env.board)\n",
    "            search(current_state, old_value, n_dreams, max_rounds)\n",
    "            action = composite_greedy(critic, memory, possible_boards)\n",
    "        else:\n",
    "            action = epsilon_greedy(critic, possible_boards) # No search on first step                    \n",
    "        after_state, reward, done = env.step(possible_moves[action], player = 1)\n",
    "        if done:\n",
    "            break\n",
    "    if not done:\n",
    "        value = get_state_value(critic, after_state)\n",
    "        critic.zero_grad()\n",
    "        value.backward()\n",
    "        with torch.no_grad():\n",
    "            for i, param in enumerate(critic.parameters()):\n",
    "                critic_Z[i] = critic_lambda * critic_Z[i] + param.grad\n",
    "    else:\n",
    "        value = 0\n",
    "    if (step>2):\n",
    "        with torch.no_grad():\n",
    "            delta = reward + gamma*value - old_value\n",
    "            for j, param in enumerate(critic.parameters()):\n",
    "                    param += critic_alpha * delta * critic_Z[j]\n",
    "    if (player == -1):\n",
    "        env.swap_player()\n",
    "        reward *= -1\n",
    "    return value, reward, done"
   ]
  },
  {
   "cell_type": "code",
   "execution_count": null,
   "metadata": {},
   "outputs": [],
   "source": []
  },
  {
   "cell_type": "code",
   "execution_count": null,
   "metadata": {},
   "outputs": [],
   "source": []
  },
  {
   "cell_type": "code",
   "execution_count": null,
   "metadata": {},
   "outputs": [],
   "source": []
  },
  {
   "cell_type": "code",
   "execution_count": null,
   "metadata": {},
   "outputs": [],
   "source": [
    "gamma = 0.99\n",
    "actor_alpha = 0.01\n",
    "critic_alpha = 0.01\n",
    "memory_alpha = 0.01\n",
    "actor_lambda = 0.7\n",
    "critic_lambda = 0.7\n",
    "memory_lambda = 0.7\n",
    "forever = 1000\n",
    "\n",
    "plt_iter = 100\n",
    "rew = []\n",
    "rew_plt = []\n",
    "\n",
    "from time import time\n",
    "tic = time()\n",
    "\n",
    "for episode in range(forever):\n",
    "    env = backgammon()\n",
    "    done = False\n",
    "    I = 1\n",
    "    step = 1\n",
    "    #actor_Z = [0 for layer in actor.parameters()]\n",
    "    critic_Z1 = [0 for layer in critic.parameters()]\n",
    "    memory_Z1 = [0 for layer in memory.parameters()]\n",
    "    critic_Z2 = [0 for layer in critic.parameters()]\n",
    "    memory_Z2 = [0 for layer in memory.parameters()]\n",
    "    n_dreams = 5\n",
    "    max_rounds = 5\n",
    "    value1 = 0\n",
    "    value2 = 0\n",
    "    Error = False\n",
    "    \n",
    "    if (episode%20==0):\n",
    "        print(\"EPISODE: \", episode)\n",
    "\n",
    "    while not done:\n",
    "        dice = B.roll_dice()\n",
    "        value1, reward, done = move(value1, done, 1, step, n_dreams, max_rounds)\n",
    "        if done:\n",
    "            break\n",
    "        step += 1\n",
    "        value1, reward, done = move(value1, done, 1, step, n_dreams, max_rounds)\n",
    "    if (reward == -1):\n",
    "        \n",
    "        \n",
    "    rew.append(reward)\n",
    "    #actor_alpha *= 0.99\n",
    "    #critic_alpha *= 0.99"
   ]
  },
  {
   "cell_type": "code",
   "execution_count": null,
   "metadata": {},
   "outputs": [],
   "source": [
    "ee = backgammon()\n",
    "ee.legal_moves(dice, -1)"
   ]
  },
  {
   "cell_type": "code",
   "execution_count": null,
   "metadata": {},
   "outputs": [],
   "source": [
    "B.legal_moves(ee.board, dice, -1)[0]"
   ]
  },
  {
   "cell_type": "code",
   "execution_count": null,
   "metadata": {},
   "outputs": [],
   "source": [
    "np.shape(B.legal_moves(ee.board, dice, -1)[0])"
   ]
  },
  {
   "cell_type": "code",
   "execution_count": null,
   "metadata": {},
   "outputs": [],
   "source": [
    "np.vstack(B.legal_moves(ee.board, dice, -1)[0])"
   ]
  },
  {
   "cell_type": "code",
   "execution_count": null,
   "metadata": {},
   "outputs": [],
   "source": []
  },
  {
   "cell_type": "code",
   "execution_count": null,
   "metadata": {},
   "outputs": [],
   "source": []
  },
  {
   "cell_type": "code",
   "execution_count": null,
   "metadata": {},
   "outputs": [],
   "source": []
  },
  {
   "cell_type": "code",
   "execution_count": null,
   "metadata": {},
   "outputs": [],
   "source": []
  },
  {
   "cell_type": "code",
   "execution_count": null,
   "metadata": {},
   "outputs": [],
   "source": []
  },
  {
   "cell_type": "code",
   "execution_count": null,
   "metadata": {},
   "outputs": [],
   "source": []
  },
  {
   "cell_type": "code",
   "execution_count": null,
   "metadata": {},
   "outputs": [],
   "source": []
  },
  {
   "cell_type": "code",
   "execution_count": null,
   "metadata": {},
   "outputs": [],
   "source": []
  },
  {
   "cell_type": "code",
   "execution_count": null,
   "metadata": {},
   "outputs": [],
   "source": []
  },
  {
   "cell_type": "code",
   "execution_count": null,
   "metadata": {},
   "outputs": [],
   "source": []
  },
  {
   "cell_type": "code",
   "execution_count": null,
   "metadata": {},
   "outputs": [],
   "source": []
  },
  {
   "cell_type": "code",
   "execution_count": null,
   "metadata": {},
   "outputs": [],
   "source": []
  },
  {
   "cell_type": "code",
   "execution_count": null,
   "metadata": {},
   "outputs": [],
   "source": []
  },
  {
   "cell_type": "code",
   "execution_count": null,
   "metadata": {},
   "outputs": [],
   "source": []
  },
  {
   "cell_type": "code",
   "execution_count": null,
   "metadata": {},
   "outputs": [],
   "source": []
  },
  {
   "cell_type": "code",
   "execution_count": null,
   "metadata": {},
   "outputs": [],
   "source": []
  },
  {
   "cell_type": "code",
   "execution_count": null,
   "metadata": {},
   "outputs": [],
   "source": []
  },
  {
   "cell_type": "code",
   "execution_count": null,
   "metadata": {},
   "outputs": [],
   "source": []
  },
  {
   "cell_type": "code",
   "execution_count": null,
   "metadata": {},
   "outputs": [],
   "source": []
  },
  {
   "cell_type": "code",
   "execution_count": null,
   "metadata": {},
   "outputs": [],
   "source": []
  },
  {
   "cell_type": "code",
   "execution_count": null,
   "metadata": {},
   "outputs": [],
   "source": []
  },
  {
   "cell_type": "code",
   "execution_count": null,
   "metadata": {},
   "outputs": [],
   "source": []
  },
  {
   "cell_type": "code",
   "execution_count": null,
   "metadata": {},
   "outputs": [],
   "source": []
  },
  {
   "cell_type": "code",
   "execution_count": null,
   "metadata": {},
   "outputs": [],
   "source": []
  },
  {
   "cell_type": "code",
   "execution_count": null,
   "metadata": {},
   "outputs": [],
   "source": []
  },
  {
   "cell_type": "code",
   "execution_count": null,
   "metadata": {},
   "outputs": [],
   "source": []
  },
  {
   "cell_type": "code",
   "execution_count": null,
   "metadata": {},
   "outputs": [],
   "source": []
  },
  {
   "cell_type": "code",
   "execution_count": null,
   "metadata": {},
   "outputs": [],
   "source": []
  },
  {
   "cell_type": "code",
   "execution_count": null,
   "metadata": {},
   "outputs": [],
   "source": []
  },
  {
   "cell_type": "code",
   "execution_count": null,
   "metadata": {},
   "outputs": [],
   "source": []
  },
  {
   "cell_type": "code",
   "execution_count": null,
   "metadata": {},
   "outputs": [],
   "source": []
  },
  {
   "cell_type": "code",
   "execution_count": null,
   "metadata": {},
   "outputs": [],
   "source": []
  },
  {
   "cell_type": "code",
   "execution_count": null,
   "metadata": {},
   "outputs": [],
   "source": []
  },
  {
   "cell_type": "code",
   "execution_count": null,
   "metadata": {},
   "outputs": [],
   "source": []
  },
  {
   "cell_type": "code",
   "execution_count": null,
   "metadata": {},
   "outputs": [],
   "source": []
  },
  {
   "cell_type": "code",
   "execution_count": null,
   "metadata": {},
   "outputs": [],
   "source": []
  },
  {
   "cell_type": "code",
   "execution_count": null,
   "metadata": {},
   "outputs": [],
   "source": []
  },
  {
   "cell_type": "code",
   "execution_count": null,
   "metadata": {},
   "outputs": [],
   "source": []
  },
  {
   "cell_type": "code",
   "execution_count": null,
   "metadata": {},
   "outputs": [],
   "source": []
  },
  {
   "cell_type": "code",
   "execution_count": null,
   "metadata": {},
   "outputs": [],
   "source": []
  },
  {
   "cell_type": "code",
   "execution_count": null,
   "metadata": {},
   "outputs": [],
   "source": []
  },
  {
   "cell_type": "code",
   "execution_count": null,
   "metadata": {},
   "outputs": [],
   "source": [
    "plt.plot(rew_plt)\n",
    "plt.axhline(0.5, color=\"gray\")\n",
    "plt.show()"
   ]
  },
  {
   "cell_type": "code",
   "execution_count": null,
   "metadata": {},
   "outputs": [],
   "source": []
  },
  {
   "cell_type": "code",
   "execution_count": null,
   "metadata": {},
   "outputs": [],
   "source": [
    "    board = np.zeros(29)\n",
    "    board[1] = -2\n",
    "    board[12] = -5\n",
    "    board[17] = -3\n",
    "    board[19] = -5\n",
    "    board[6] = 5\n",
    "    board[8] = 3\n",
    "    board[13] = 5\n",
    "    board[24] = 2"
   ]
  },
  {
   "cell_type": "code",
   "execution_count": null,
   "metadata": {},
   "outputs": [],
   "source": [
    "board"
   ]
  },
  {
   "cell_type": "code",
   "execution_count": null,
   "metadata": {},
   "outputs": [],
   "source": [
    "sum(board[board>0])"
   ]
  },
  {
   "cell_type": "code",
   "execution_count": null,
   "metadata": {},
   "outputs": [],
   "source": [
    "sum(board[board<0]) != -15"
   ]
  },
  {
   "cell_type": "code",
   "execution_count": null,
   "metadata": {},
   "outputs": [],
   "source": []
  },
  {
   "cell_type": "code",
   "execution_count": null,
   "metadata": {},
   "outputs": [],
   "source": []
  },
  {
   "cell_type": "code",
   "execution_count": null,
   "metadata": {},
   "outputs": [],
   "source": []
  },
  {
   "cell_type": "code",
   "execution_count": null,
   "metadata": {},
   "outputs": [],
   "source": []
  },
  {
   "cell_type": "code",
   "execution_count": null,
   "metadata": {},
   "outputs": [],
   "source": []
  },
  {
   "cell_type": "code",
   "execution_count": null,
   "metadata": {},
   "outputs": [],
   "source": []
  },
  {
   "cell_type": "code",
   "execution_count": null,
   "metadata": {},
   "outputs": [],
   "source": []
  },
  {
   "cell_type": "code",
   "execution_count": null,
   "metadata": {},
   "outputs": [],
   "source": []
  },
  {
   "cell_type": "code",
   "execution_count": null,
   "metadata": {},
   "outputs": [],
   "source": []
  },
  {
   "cell_type": "code",
   "execution_count": null,
   "metadata": {},
   "outputs": [],
   "source": []
  },
  {
   "cell_type": "code",
   "execution_count": null,
   "metadata": {},
   "outputs": [],
   "source": []
  },
  {
   "cell_type": "code",
   "execution_count": null,
   "metadata": {},
   "outputs": [],
   "source": []
  },
  {
   "cell_type": "code",
   "execution_count": null,
   "metadata": {},
   "outputs": [],
   "source": []
  },
  {
   "cell_type": "code",
   "execution_count": null,
   "metadata": {},
   "outputs": [],
   "source": []
  },
  {
   "cell_type": "code",
   "execution_count": null,
   "metadata": {},
   "outputs": [],
   "source": [
    "print(param)"
   ]
  },
  {
   "cell_type": "code",
   "execution_count": null,
   "metadata": {
    "scrolled": true
   },
   "outputs": [],
   "source": [
    "possible_moves, possible_boards = backgammon().legal_moves(1)\n",
    "get_action_value(actor, possible_boards)"
   ]
  },
  {
   "cell_type": "code",
   "execution_count": null,
   "metadata": {},
   "outputs": [],
   "source": [
    "backgammon().render()"
   ]
  },
  {
   "cell_type": "code",
   "execution_count": null,
   "metadata": {},
   "outputs": [],
   "source": []
  }
 ],
 "metadata": {
  "kernelspec": {
   "display_name": "Python 3",
   "language": "python",
   "name": "python3"
  },
  "language_info": {
   "codemirror_mode": {
    "name": "ipython",
    "version": 3
   },
   "file_extension": ".py",
   "mimetype": "text/x-python",
   "name": "python",
   "nbconvert_exporter": "python",
   "pygments_lexer": "ipython3",
   "version": "3.6.5"
  }
 },
 "nbformat": 4,
 "nbformat_minor": 2
}
