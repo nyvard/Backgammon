{
 "cells": [
  {
   "cell_type": "code",
   "execution_count": 1,
   "metadata": {},
   "outputs": [],
   "source": [
    "import torch\n",
    "import copy\n",
    "import numpy as np\n",
    "import matplotlib.pyplot as plt\n",
    "from IPython.display import clear_output\n",
    "device = torch.device(\"cuda\" if torch.cuda.is_available() else \"cpu\")\n",
    "\n",
    "import Backgammon as B\n",
    "#import agent as A\n",
    "import flipped_agent as FA\n",
    "\n",
    "#import pubeval_bg"
   ]
  },
  {
   "cell_type": "code",
   "execution_count": 2,
   "metadata": {},
   "outputs": [],
   "source": [
    "class backgammon:\n",
    "    def __init__(self):\n",
    "        self.board = B.init_board()\n",
    "            \n",
    "    def reset(self):\n",
    "        self.board = B.init_board()\n",
    "        self.done = False\n",
    "        \n",
    "    def choose_board(self, board):\n",
    "        self.board = board\n",
    "        self.done = False\n",
    "        return np.copy(self.board)\n",
    "    \n",
    "    def legal_moves(self, dice, player):\n",
    "        moves, boards = B.legal_moves(board = self.board, dice = dice, player = player)\n",
    "        if len(boards) == 0:\n",
    "            return [], self.board\n",
    "        n_boards = np.shape(boards)[0]\n",
    "        tesauro = np.zeros((n_boards, 198))\n",
    "        for b in range(n_boards):\n",
    "            tesauro[b,:] = features(boards[b], player)\n",
    "        return moves, tesauro\n",
    "    \n",
    "    def swap_player(self):\n",
    "        self.board = FA.flip_board(board_copy=np.copy(self.board))\n",
    "    \n",
    "    # oppents random move\n",
    "    def make_move(self, dice):\n",
    "        moves, _ = self.legal_moves(dice, -1)\n",
    "        if len(moves) == 0:\n",
    "            return self.step([], -1)\n",
    "        move = moves[np.random.randint(len(moves))]\n",
    "        return self.step(move, -1)\n",
    "    \n",
    "    def step(self, move, player):\n",
    "        if len(move) != 0:\n",
    "            for m in move:\n",
    "                self.board = B.update_board(board = self.board, move = m, player = player)\n",
    "        reward = 0\n",
    "        self.done = False\n",
    "        if self.iswin():\n",
    "            reward = player\n",
    "            self.done = True\n",
    "        tesauro_board = features(np.copy(self.board), player)\n",
    "        return tesauro_board, reward, self.done\n",
    "        \n",
    "    def iswin(self):\n",
    "        return B.game_over(self.board)\n",
    "        \n",
    "    def render(self):\n",
    "        B.pretty_print(self.board)"
   ]
  },
  {
   "cell_type": "code",
   "execution_count": 3,
   "metadata": {},
   "outputs": [],
   "source": [
    "def reset_graph(seed=43):\n",
    "    #tf.reset_default_graph()\n",
    "    #tf.set_random_seed(seed)\n",
    "    torch.manual_seed(seed)\n",
    "    np.random.seed(seed)\n",
    "reset_graph()"
   ]
  },
  {
   "cell_type": "code",
   "execution_count": 4,
   "metadata": {},
   "outputs": [],
   "source": [
    "# D_in is input dimension;\n",
    "# H is hidden dimension; D_out is output dimension.\n",
    "D_in, H1, H2, D_out = 198, 256, 128, 1\n",
    "\n",
    "critic = torch.nn.Sequential(\n",
    "    torch.nn.Linear(D_in, H1),\n",
    "    torch.nn.LeakyReLU(),\n",
    "    torch.nn.Linear(H1, H2),\n",
    "    torch.nn.LeakyReLU(),\n",
    "    torch.nn.Linear(H2, D_out),\n",
    "    torch.nn.Tanh(),\n",
    ")"
   ]
  },
  {
   "cell_type": "code",
   "execution_count": 12,
   "metadata": {},
   "outputs": [],
   "source": [
    "def get_action_and_value(actor, boards):\n",
    "    boards = torch.from_numpy(boards).float()\n",
    "    possible_actions_probs = actor(boards)\n",
    "    with torch.no_grad():\n",
    "        action = int(torch.multinomial(possible_actions_probs.view(1,-1), 1))\n",
    "    action_value = possible_actions_probs[action]\n",
    "    return action, action_value\n",
    "\n",
    "def get_action_value(actor, boards, action):\n",
    "    boards = torch.from_numpy(boards).float()\n",
    "    possible_actions_probs = actor(boards)\n",
    "    action_value = possible_actions_probs[action]\n",
    "    return action_value\n",
    "\n",
    "def get_action(actor, boards):\n",
    "    with torch.no_grad():\n",
    "        boards = torch.from_numpy(boards).float()\n",
    "        possible_actions_probs = actor(boards)\n",
    "        action = torch.multinomial(possible_actions_probs.view(1,-1), 1)\n",
    "    return int(action)\n",
    "\n",
    "def get_state_value(nn_model, after_state):\n",
    "    after_state = torch.from_numpy(after_state).float()\n",
    "    value = nn_model(after_state)\n",
    "    return value\n",
    "\n",
    "def epsilon_greedy(critic, possible_boards, epsilon=1):\n",
    "    possible_boards = torch.from_numpy(possible_boards).float()\n",
    "    values = critic(possible_boards)\n",
    "    if np.random.random()<epsilon:\n",
    "        _ , index = values.max(0)\n",
    "    else:\n",
    "        index = np.random.randint(0, len(possible_boards))\n",
    "    return int(index)\n"
   ]
  },
  {
   "cell_type": "code",
   "execution_count": 6,
   "metadata": {},
   "outputs": [],
   "source": [
    "\"\"\"\n",
    "Use: f = features(board)\n",
    "Input: board is is a 29-vector\n",
    "Output: f is a 198-vector of features that follows Tesauro's procedure.\n",
    "        See p. 423 in Sutton & Barto\n",
    "\"\"\"\n",
    "def features(board, player):\n",
    "    f = np.zeros(198)\n",
    "    \n",
    "    # define features for points on board\n",
    "    p = 0\n",
    "    for i in range(1,25):\n",
    "        point = board[i]\n",
    "        #print('point:', point)\n",
    "        #print('p: ', p)\n",
    "        if (point != 0):\n",
    "            #print('Not 0')\n",
    "            if(point > 0):\n",
    "                if (point == 1):\n",
    "                    f[p] = 1\n",
    "                elif (point == 2):\n",
    "                    f[p+1] = 1\n",
    "                elif (point == 3):\n",
    "                    f[p+2] = 1\n",
    "                else:\n",
    "                    f[p+3] = (point-3)/2\n",
    "            else:\n",
    "                if (point == -1):\n",
    "                    f[p+4] == 1\n",
    "                elif (point == -2):\n",
    "                    f[p+5] = 1\n",
    "                elif (point == -3):\n",
    "                    f[p+6] = 1\n",
    "                else:\n",
    "                    f[p+7] = (-point-3)/2\n",
    "        p += 8\n",
    "    \n",
    "    f[192] = board[25]/2\n",
    "    f[193] = board[26]/2\n",
    "    f[194] = board[27]/15\n",
    "    f[195] = board[28]/15\n",
    "    f[196] = int(player == 1)\n",
    "    f[197] = int(player == -1)\n",
    "    return f"
   ]
  },
  {
   "cell_type": "code",
   "execution_count": 10,
   "metadata": {},
   "outputs": [],
   "source": [
    "import time\n",
    "rew_plt = []\n",
    "\n",
    "def playAgainstRandom(num_games = 100, clear = True):\n",
    "    global rew_plt\n",
    "    rew = []\n",
    "    for episode in range(num_games):\n",
    "        env.reset()\n",
    "        done = False\n",
    "\n",
    "        while not done:\n",
    "            dice = B.roll_dice()\n",
    "            for i in range(1 + int(dice[0] == dice[1])):\n",
    "                possible_moves, possible_boards = env.legal_moves(dice, 1)\n",
    "                if len(possible_moves) == 0:\n",
    "                    break\n",
    "                action = epsilon_greedy(critic, possible_boards)\n",
    "                after_state, reward, done = env.step(possible_moves[action], player = 1)\n",
    "                if done:\n",
    "                    break\n",
    "\n",
    "            if not done:\n",
    "                dice = B.roll_dice()\n",
    "                for i in range(1 + int(dice[0] == dice[1])):\n",
    "                    next_state, reward, done = env.make_move(dice)\n",
    "                    if done:\n",
    "                        break\n",
    "\n",
    "\n",
    "        rew.append(reward)\n",
    "\n",
    "    if clear:\n",
    "        clear_output(True)\n",
    "    rew_plt.append(np.mean(np.equal(rew,1)))\n",
    "    rew = []\n",
    "    plt.plot(rew_plt)\n",
    "    plt.axhline(0.5, color=\"gray\")\n",
    "    plt.show()\n",
    "    print(\"Win rate:\", rew_plt[-1])"
   ]
  },
  {
   "cell_type": "code",
   "execution_count": null,
   "metadata": {},
   "outputs": [
    {
     "name": "stdout",
     "output_type": "stream",
     "text": [
      "EPISODE:  50 Steps: 47\n",
      "EPISODE:  100 Steps: 39\n",
      "EPISODE:  150 Steps: 31\n",
      "EPISODE:  200 Steps: 46\n",
      "EPISODE:  250 Steps: 23\n",
      "EPISODE:  300 Steps: 32\n",
      "EPISODE:  350 Steps: 22\n",
      "EPISODE:  400 Steps: 23\n"
     ]
    },
    {
     "data": {
      "image/png": "[encoded data removed]",
      "text/plain": [
       "<Figure size 432x288 with 1 Axes>"
      ]
     },
     "metadata": {},
     "output_type": "display_data"
    },
    {
     "name": "stdout",
     "output_type": "stream",
     "text": [
      "Win rate: 1.0\n",
      "Time per 400: 68.79019951820374\n",
      "EPISODE:  400\n",
      "EPISODE:  450 Steps: 23\n",
      "EPISODE:  500 Steps: 20\n",
      "SAVE\n",
      "EPISODE:  550 Steps: 27\n",
      "EPISODE:  600 Steps: 29\n",
      "EPISODE:  650 Steps: 24\n",
      "EPISODE:  700 Steps: 44\n",
      "EPISODE:  750 Steps: 32\n",
      "EPISODE:  800 Steps: 26\n"
     ]
    },
    {
     "data": {
      "image/png": "[encoded data removed]",
      "text/plain": [
       "<Figure size 432x288 with 1 Axes>"
      ]
     },
     "metadata": {},
     "output_type": "display_data"
    },
    {
     "name": "stdout",
     "output_type": "stream",
     "text": [
      "Win rate: 1.0\n",
      "Time per 400: 57.7493679523468\n",
      "EPISODE:  800\n",
      "EPISODE:  850 Steps: 34\n",
      "EPISODE:  900 Steps: 39\n",
      "EPISODE:  950 Steps: 46\n",
      "EPISODE:  1000 Steps: 23\n",
      "SAVE\n",
      "EPISODE:  1050 Steps: 24\n",
      "EPISODE:  1100 Steps: 27\n",
      "EPISODE:  1150 Steps: 41\n",
      "EPISODE:  1200 Steps: 25\n"
     ]
    },
    {
     "data": {
      "image/png": "[encoded data removed]",
      "text/plain": [
       "<Figure size 432x288 with 1 Axes>"
      ]
     },
     "metadata": {},
     "output_type": "display_data"
    },
    {
     "name": "stdout",
     "output_type": "stream",
     "text": [
      "Win rate: 1.0\n",
      "Time per 400: 56.64014482498169\n",
      "EPISODE:  1200\n",
      "EPISODE:  1250 Steps: 27\n",
      "EPISODE:  1300 Steps: 33\n",
      "EPISODE:  1350 Steps: 24\n",
      "EPISODE:  1400 Steps: 32\n",
      "EPISODE:  1450 Steps: 29\n",
      "EPISODE:  1500 Steps: 32\n",
      "SAVE\n",
      "EPISODE:  1550 Steps: 32\n",
      "EPISODE:  1600 Steps: 23\n"
     ]
    },
    {
     "data": {
      "image/png": "[encoded data removed]",
      "text/plain": [
       "<Figure size 432x288 with 1 Axes>"
      ]
     },
     "metadata": {},
     "output_type": "display_data"
    },
    {
     "name": "stdout",
     "output_type": "stream",
     "text": [
      "Win rate: 1.0\n",
      "Time per 400: 51.98015809059143\n",
      "EPISODE:  1600\n",
      "EPISODE:  1650 Steps: 24\n",
      "EPISODE:  1700 Steps: 32\n",
      "EPISODE:  1750 Steps: 45\n",
      "EPISODE:  1800 Steps: 23\n",
      "EPISODE:  1850 Steps: 25\n",
      "EPISODE:  1900 Steps: 27\n",
      "EPISODE:  1950 Steps: 25\n",
      "EPISODE:  2000 Steps: 23\n"
     ]
    },
    {
     "data": {
      "image/png": "[encoded data removed]",
      "text/plain": [
       "<Figure size 432x288 with 1 Axes>"
      ]
     },
     "metadata": {},
     "output_type": "display_data"
    },
    {
     "name": "stdout",
     "output_type": "stream",
     "text": [
      "Win rate: 1.0\n",
      "Time per 400: 56.58013343811035\n",
      "EPISODE:  2000\n",
      "SAVE\n",
      "EPISODE:  2050 Steps: 21\n",
      "EPISODE:  2100 Steps: 27\n",
      "EPISODE:  2150 Steps: 34\n",
      "EPISODE:  2200 Steps: 40\n",
      "EPISODE:  2250 Steps: 31\n",
      "EPISODE:  2300 Steps: 31\n",
      "EPISODE:  2350 Steps: 33\n",
      "EPISODE:  2400 Steps: 42\n"
     ]
    },
    {
     "data": {
      "image/png": "[encoded data removed]",
      "text/plain": [
       "<Figure size 432x288 with 1 Axes>"
      ]
     },
     "metadata": {},
     "output_type": "display_data"
    },
    {
     "name": "stdout",
     "output_type": "stream",
     "text": [
      "Win rate: 1.0\n",
      "Time per 400: 59.146284103393555\n",
      "EPISODE:  2400\n",
      "EPISODE:  2450 Steps: 26\n",
      "EPISODE:  2500 Steps: 22\n",
      "SAVE\n",
      "EPISODE:  2550 Steps: 36\n",
      "EPISODE:  2600 Steps: 31\n",
      "EPISODE:  2650 Steps: 30\n",
      "EPISODE:  2700 Steps: 29\n",
      "EPISODE:  2750 Steps: 40\n",
      "EPISODE:  2800 Steps: 33\n"
     ]
    },
    {
     "data": {
      "image/png": "[encoded data removed]",
      "text/plain": [
       "<Figure size 432x288 with 1 Axes>"
      ]
     },
     "metadata": {},
     "output_type": "display_data"
    },
    {
     "name": "stdout",
     "output_type": "stream",
     "text": [
      "Win rate: 1.0\n",
      "Time per 400: 59.94450283050537\n",
      "EPISODE:  2800\n",
      "EPISODE:  2850 Steps: 29\n",
      "EPISODE:  2900 Steps: 22\n",
      "EPISODE:  2950 Steps: 41\n",
      "EPISODE:  3000 Steps: 25\n",
      "SAVE\n",
      "EPISODE:  3050 Steps: 27\n",
      "EPISODE:  3100 Steps: 35\n",
      "EPISODE:  3150 Steps: 25\n",
      "EPISODE:  3200 Steps: 37\n"
     ]
    },
    {
     "data": {
      "image/png": "[encoded data removed]",
      "text/plain": [
       "<Figure size 432x288 with 1 Axes>"
      ]
     },
     "metadata": {},
     "output_type": "display_data"
    },
    {
     "name": "stdout",
     "output_type": "stream",
     "text": [
      "Win rate: 1.0\n",
      "Time per 400: 65.86333632469177\n",
      "EPISODE:  3200\n",
      "EPISODE:  3250 Steps: 27\n",
      "EPISODE:  3300 Steps: 28\n",
      "EPISODE:  3350 Steps: 35\n",
      "EPISODE:  3400 Steps: 38\n",
      "EPISODE:  3450 Steps: 31\n",
      "EPISODE:  3500 Steps: 32\n",
      "SAVE\n",
      "EPISODE:  3550 Steps: 32\n",
      "EPISODE:  3600 Steps: 24\n"
     ]
    },
    {
     "data": {
      "image/png": "[encoded data removed]",
      "text/plain": [
       "<Figure size 432x288 with 1 Axes>"
      ]
     },
     "metadata": {},
     "output_type": "display_data"
    },
    {
     "name": "stdout",
     "output_type": "stream",
     "text": [
      "Win rate: 1.0\n",
      "Time per 400: 56.72614026069641\n",
      "EPISODE:  3600\n",
      "EPISODE:  3650 Steps: 36\n",
      "EPISODE:  3700 Steps: 30\n",
      "EPISODE:  3750 Steps: 28\n",
      "EPISODE:  3800 Steps: 37\n",
      "EPISODE:  3850 Steps: 34\n",
      "EPISODE:  3900 Steps: 22\n",
      "EPISODE:  3950 Steps: 45\n",
      "EPISODE:  4000 Steps: 34\n"
     ]
    },
    {
     "data": {
      "image/png": "[encoded data removed]",
      "text/plain": [
       "<Figure size 432x288 with 1 Axes>"
      ]
     },
     "metadata": {},
     "output_type": "display_data"
    },
    {
     "name": "stdout",
     "output_type": "stream",
     "text": [
      "Win rate: 1.0\n",
      "Time per 400: 56.68951416015625\n",
      "EPISODE:  4000\n",
      "SAVE\n",
      "EPISODE:  4050 Steps: 48\n",
      "EPISODE:  4100 Steps: 30\n",
      "EPISODE:  4150 Steps: 41\n",
      "EPISODE:  4200 Steps: 21\n",
      "EPISODE:  4250 Steps: 37\n",
      "EPISODE:  4300 Steps: 24\n",
      "EPISODE:  4350 Steps: 32\n",
      "EPISODE:  4400 Steps: 23\n"
     ]
    },
    {
     "data": {
      "image/png": "[encoded data removed]",
      "text/plain": [
       "<Figure size 432x288 with 1 Axes>"
      ]
     },
     "metadata": {},
     "output_type": "display_data"
    },
    {
     "name": "stdout",
     "output_type": "stream",
     "text": [
      "Win rate: 0.9\n",
      "Time per 400: 71.04388046264648\n",
      "EPISODE:  4400\n",
      "EPISODE:  4450 Steps: 28\n",
      "EPISODE:  4500 Steps: 21\n",
      "SAVE\n",
      "EPISODE:  4550 Steps: 34\n",
      "EPISODE:  4600 Steps: 25\n",
      "EPISODE:  4650 Steps: 36\n",
      "EPISODE:  4700 Steps: 22\n",
      "EPISODE:  4750 Steps: 30\n",
      "EPISODE:  4800 Steps: 35\n"
     ]
    },
    {
     "data": {
      "image/png": "[encoded data removed]",
      "text/plain": [
       "<Figure size 432x288 with 1 Axes>"
      ]
     },
     "metadata": {},
     "output_type": "display_data"
    },
    {
     "name": "stdout",
     "output_type": "stream",
     "text": [
      "Win rate: 1.0\n",
      "Time per 400: 71.5651638507843\n",
      "EPISODE:  4800\n",
      "EPISODE:  4850 Steps: 34\n",
      "EPISODE:  4900 Steps: 28\n",
      "EPISODE:  4950 Steps: 27\n",
      "EPISODE:  5000 Steps: 28\n",
      "SAVE\n",
      "EPISODE:  5050 Steps: 32\n",
      "EPISODE:  5100 Steps: 26\n",
      "EPISODE:  5150 Steps: 22\n",
      "EPISODE:  5200 Steps: 58\n"
     ]
    },
    {
     "data": {
      "image/png": "[encoded data removed]",
      "text/plain": [
       "<Figure size 432x288 with 1 Axes>"
      ]
     },
     "metadata": {},
     "output_type": "display_data"
    },
    {
     "name": "stdout",
     "output_type": "stream",
     "text": [
      "Win rate: 1.0\n",
      "Time per 400: 73.3356237411499\n",
      "EPISODE:  5200\n",
      "EPISODE:  5250 Steps: 57\n",
      "EPISODE:  5300 Steps: 31\n",
      "EPISODE:  5350 Steps: 30\n",
      "EPISODE:  5400 Steps: 50\n",
      "EPISODE:  5450 Steps: 50\n",
      "EPISODE:  5500 Steps: 57\n",
      "SAVE\n",
      "EPISODE:  5550 Steps: 29\n",
      "EPISODE:  5600 Steps: 32\n"
     ]
    },
    {
     "data": {
      "image/png": "[encoded data removed]",
      "text/plain": [
       "<Figure size 432x288 with 1 Axes>"
      ]
     },
     "metadata": {},
     "output_type": "display_data"
    },
    {
     "name": "stdout",
     "output_type": "stream",
     "text": [
      "Win rate: 1.0\n",
      "Time per 400: 70.59600138664246\n",
      "EPISODE:  5600\n",
      "EPISODE:  5650 Steps: 53\n",
      "EPISODE:  5700 Steps: 71\n",
      "EPISODE:  5750 Steps: 33\n",
      "EPISODE:  5800 Steps: 33\n",
      "EPISODE:  5850 Steps: 26\n",
      "EPISODE:  5900 Steps: 29\n",
      "EPISODE:  5950 Steps: 56\n",
      "EPISODE:  6000 Steps: 36\n"
     ]
    },
    {
     "data": {
      "image/png": "[encoded data removed]",
      "text/plain": [
       "<Figure size 432x288 with 1 Axes>"
      ]
     },
     "metadata": {},
     "output_type": "display_data"
    },
    {
     "name": "stdout",
     "output_type": "stream",
     "text": [
      "Win rate: 1.0\n",
      "Time per 400: 79.76871705055237\n",
      "EPISODE:  6000\n",
      "SAVE\n",
      "EPISODE:  6050 Steps: 57\n",
      "EPISODE:  6100 Steps: 37\n",
      "EPISODE:  6150 Steps: 40\n",
      "EPISODE:  6200 Steps: 28\n",
      "EPISODE:  6250 Steps: 27\n",
      "EPISODE:  6300 Steps: 28\n",
      "EPISODE:  6350 Steps: 83\n"
     ]
    }
   ],
   "source": [
    "gamma = 1\n",
    "#actor_alpha = 0.01\n",
    "critic_alpha = 0.001\n",
    "#actor_lambda = 0.7\n",
    "critic_lambda = 0.7\n",
    "forever = 10000\n",
    "\n",
    "plt_iter = 400\n",
    "\n",
    "env = backgammon()\n",
    "tic = time.time()\n",
    "step = 1\n",
    "\n",
    "for episode in range(1,forever+1):\n",
    "    if (episode%50==0):\n",
    "        print(\"EPISODE: \", episode, \"Steps:\", step)\n",
    "\n",
    "    env.reset()\n",
    "    done = False\n",
    "    step = 1\n",
    "    \n",
    "    I = 1\n",
    "    #actor_Z = [ [0 for layer in actor.parameters()] for player in range(2) ]\n",
    "    critic_Z = [ [0 for layer in critic.parameters()] for player in range(2) ]\n",
    "    value = [[0,0],[0,0]] #value[player][0(old),1(new)]\n",
    "        \n",
    "    player = 0\n",
    "    while not done:\n",
    "        dice = B.roll_dice()\n",
    "        for i in range(1 + int(dice[0] == dice[1])):\n",
    "            possible_moves, possible_boards = env.legal_moves(dice, 1)\n",
    "            if len(possible_moves) == 0:\n",
    "                break\n",
    "            action = epsilon_greedy(critic, possible_boards)\n",
    "            after_state, reward, done = env.step(possible_moves[action], player = 1)\n",
    "            if done:\n",
    "                break\n",
    "                \n",
    "        if not done:\n",
    "            value[player][0] = float(value[player][1]) # old_value\n",
    "            value[player][1] = get_state_value(critic, after_state)\n",
    "            critic.zero_grad()\n",
    "            value[player][1].backward()\n",
    "            with torch.no_grad():\n",
    "                for i, param in enumerate(critic.parameters()):\n",
    "                    critic_Z[player][i] = critic_lambda * critic_Z[player][i] + param.grad\n",
    "            if (step>2):\n",
    "                with torch.no_grad():\n",
    "                    reward = 0 # Reward er 0\n",
    "                    delta = reward + gamma*value[player][1] - value[player][0]\n",
    "\n",
    "                    for i, param in enumerate(critic.parameters()):\n",
    "                        param += critic_alpha * delta * critic_Z[player][i]\n",
    "            \n",
    "            if player==0:\n",
    "                #I *= gamma\n",
    "                step += 1\n",
    "            player = 1 - player\n",
    "            env.swap_player()\n",
    "            \n",
    "    value[player][0] = float(value[player][1])\n",
    "    value[player][1] = 0\n",
    "    \n",
    "    value[1 - player][0] = float(value[1 - player][1])\n",
    "    value[1 - player][1] = 0\n",
    "    \n",
    "    with torch.no_grad():\n",
    "        delta1 = reward + gamma*value[player][1] - value[player][0]\n",
    "        delta2 = -reward + gamma*value[1 - player][1] - value[1 - player][0]\n",
    "        \n",
    "        for i, param in enumerate(critic.parameters()):\n",
    "            param += critic_alpha * delta1 * critic_Z[player][i]\n",
    "            param += critic_alpha * delta2 * critic_Z[1 - player][i]\n",
    "            \n",
    "    if episode%plt_iter == 0:\n",
    "        toc = time.time()\n",
    "        playAgainstRandom(num_games = 10, clear = False)\n",
    "        print(\"Time per {}: {}\".format(plt_iter, toc-tic))\n",
    "        print(\"EPISODE: \", episode)\n",
    "        tic = time.time()\n",
    "        \n",
    "    if episode%500 == 0:\n",
    "        print(\"SAVE\")\n",
    "        torch.save(critic.state_dict(), \"critic_nn_greedy.pth\")\n"
   ]
  }
 ],
 "metadata": {
  "kernelspec": {
   "display_name": "Python 3",
   "language": "python",
   "name": "python3"
  },
  "language_info": {
   "codemirror_mode": {
    "name": "ipython",
    "version": 3
   },
   "file_extension": ".py",
   "mimetype": "text/x-python",
   "name": "python",
   "nbconvert_exporter": "python",
   "pygments_lexer": "ipython3",
   "version": "3.6.5"
  }
 },
 "nbformat": 4,
 "nbformat_minor": 2
}
